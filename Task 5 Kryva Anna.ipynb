{
 "cells": [
  {
   "cell_type": "code",
   "execution_count": 3,
   "metadata": {},
   "outputs": [],
   "source": [
    "import pandas as pd"
   ]
  },
  {
   "cell_type": "code",
   "execution_count": 65,
   "metadata": {},
   "outputs": [],
   "source": [
    "import numpy as np"
   ]
  },
  {
   "cell_type": "code",
   "execution_count": 164,
   "metadata": {},
   "outputs": [],
   "source": [
    "T = pd.read_csv('data.csv', names = ['age', 'prescription', 'astigmatic', 'rate', 'class'])\n",
    "y = pd.read_csv('data.csv', names=['class'], usecols=[5])"
   ]
  },
  {
   "cell_type": "code",
   "execution_count": 165,
   "metadata": {},
   "outputs": [],
   "source": [
    "s = np.sort(y['class'].unique())\n",
    "errors = {}"
   ]
  },
  {
   "cell_type": "code",
   "execution_count": 166,
   "metadata": {
    "scrolled": true
   },
   "outputs": [
    {
     "data": {
      "text/plain": [
       "('age', 1)"
      ]
     },
     "execution_count": 166,
     "metadata": {},
     "output_type": "execute_result"
    }
   ],
   "source": [
    "for f in T.columns[:-1]:\n",
    "    inner = {}\n",
    "    for val in np.sort(T[f].unique()):\n",
    "        p2 = [T[(T[f] == val) & (T['class'] == i)].count()[0] for i in s]\n",
    "        s_argmax = p2.index(max(p2))\n",
    "        p3 = sum(p2) - max(p2)\n",
    "        p1 = T[T[f] == val].count()[f]\n",
    "        inner[val] = p3 / p1\n",
    "    min_value, min_key = min((value, key) for key, value in inner.items())\n",
    "    errors[(f, min_key)] = min_value\n",
    "    \n",
    "min(errors, key=errors.get)"
   ]
  },
  {
   "cell_type": "code",
   "execution_count": 163,
   "metadata": {},
   "outputs": [],
   "source": [
    "# for f in T.columns[:-1]:\n",
    "#     inner = {}\n",
    "#     for val in np.sort(T[f].unique()):\n",
    "#         p2 = [T[(T[f] == val) & (T['class'] == i)].count()[0] for i in s]\n",
    "# #         print(p2.index(max(p2)), max(p2))\n",
    "#         s_argmax = p2.index(max(p2))\n",
    "#         p3 = T[(T[f] == val) & (T['class'] != s[s_argmax])].count()[0]\n",
    "# #         print(p3)\n",
    "#         Er = p3 / p1\n",
    "#     errors[f] = inner\n"
   ]
  }
 ],
 "metadata": {
  "kernelspec": {
   "display_name": "Python 3",
   "language": "python",
   "name": "python3"
  },
  "language_info": {
   "codemirror_mode": {
    "name": "ipython",
    "version": 3
   },
   "file_extension": ".py",
   "mimetype": "text/x-python",
   "name": "python",
   "nbconvert_exporter": "python",
   "pygments_lexer": "ipython3",
   "version": "3.7.5"
  }
 },
 "nbformat": 4,
 "nbformat_minor": 2
}
