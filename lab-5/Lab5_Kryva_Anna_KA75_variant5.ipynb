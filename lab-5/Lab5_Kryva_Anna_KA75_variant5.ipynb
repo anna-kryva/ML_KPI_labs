{
  "nbformat": 4,
  "nbformat_minor": 0,
  "metadata": {
    "colab": {
      "name": "Lab5_Kryva_Anna_KA75_variant5.ipynb",
      "provenance": [],
      "collapsed_sections": [],
      "authorship_tag": "ABX9TyP/jaKLoMVrLGNOfHggE3Va"
    },
    "kernelspec": {
      "name": "python3",
      "display_name": "Python 3"
    }
  },
  "cells": [
    {
      "cell_type": "markdown",
      "metadata": {
        "id": "yKH8lqWnugp9",
        "colab_type": "text"
      },
      "source": [
        "![Title](https://github.com/anna-kryva/ML_KPI_labs/blob/master/lab-5/images/title.png)"
      ]
    },
    {
      "cell_type": "code",
      "metadata": {
        "id": "T6J_rNqTpyqw",
        "colab_type": "code",
        "colab": {}
      },
      "source": [
        "import pandas as pd\n",
        "import numpy as np"
      ],
      "execution_count": 0,
      "outputs": []
    },
    {
      "cell_type": "code",
      "metadata": {
        "id": "3zmvDPV9qYuN",
        "colab_type": "code",
        "colab": {}
      },
      "source": [
        "df = pd.read_csv('Var_2_groceries - groceries.csv')"
      ],
      "execution_count": 0,
      "outputs": []
    }
  ]
}